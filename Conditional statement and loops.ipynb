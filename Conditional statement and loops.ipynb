{
 "cells": [
  {
   "cell_type": "markdown",
   "id": "6dbfcbf3-71e2-414a-8d03-7587d5a17a98",
   "metadata": {},
   "source": [
    "-----> Question No.1:   We will use \"conditional statements\" to check which number is greater."
   ]
  },
  {
   "cell_type": "code",
   "execution_count": 1,
   "id": "3138c23a-4600-4e26-b0bd-9c0b3efa9e9c",
   "metadata": {},
   "outputs": [
    {
     "name": "stdin",
     "output_type": "stream",
     "text": [
      "Enter First Number  25\n",
      "Enter 2nd number  100\n",
      "Enter 3rd Number  3\n"
     ]
    },
    {
     "name": "stdout",
     "output_type": "stream",
     "text": [
      "3  is smallest\n"
     ]
    }
   ],
   "source": [
    "a=int(input(\"Enter First Number \"))   #For 1st number\n",
    "b=int(input(\"Enter 2nd number \"))     #For second number\n",
    "c=int(input(\"Enter 3rd Number \"))     #For third number\n",
    "\n",
    "if a<b and a<c:                       #compare first number with 2nd and 3rd\n",
    "    print(a, \" is smallest\")\n",
    "elif b<a and b<c:                     #compare second number with 1st and 3rd\n",
    "    print(b ,\" is smallest\")          \n",
    "else:                                 # If Above two are false then this will execute\n",
    "    print(c, \" is smallest\")"
   ]
  },
  {
   "cell_type": "markdown",
   "id": "ac16aa9c-4c52-4207-89dc-a31f490559c6",
   "metadata": {},
   "source": [
    "----> Question No.2: We will take two number from user. then will use if else statements to compare numbers.\n"
   ]
  },
  {
   "cell_type": "code",
   "execution_count": 3,
   "id": "22d645cd-e537-4b4a-a2ee-24ea4fbc9e91",
   "metadata": {},
   "outputs": [
    {
     "name": "stdin",
     "output_type": "stream",
     "text": [
      "Enter First Number  500\n",
      "Enter 2nd number  300\n"
     ]
    },
    {
     "name": "stdout",
     "output_type": "stream",
     "text": [
      "500 300\n"
     ]
    }
   ],
   "source": [
    "a=int(input(\"Enter First Number \"))   #Takes first number from user\n",
    "b=int(input(\"Enter 2nd number \"))     #Takes 2nd number from user\n",
    "\n",
    "if a>b:                               # checks first number is greater than second\n",
    "    print(a,b)\n",
    "else:                                 #If above condition false then this will execute\n",
    "    print(b,a)"
   ]
  },
  {
   "cell_type": "markdown",
   "id": "6132423a-ea2e-44f6-a14c-63181ab735b8",
   "metadata": {},
   "source": [
    "----> Question No.3:  We will take two numbers and one character from user. And then perform arithmetic operation on user choice by using conditional statements "
   ]
  },
  {
   "cell_type": "code",
   "execution_count": 4,
   "id": "30ce1736-e0bf-4494-8ab8-26dcdcba8710",
   "metadata": {},
   "outputs": [
    {
     "name": "stdin",
     "output_type": "stream",
     "text": [
      "Enter First Number:  40\n",
      "Enter 2nd number:  5\n",
      "Enter Character(+ , - , * , /):  +\n"
     ]
    },
    {
     "name": "stdout",
     "output_type": "stream",
     "text": [
      "Sum: 45\n"
     ]
    }
   ],
   "source": [
    "a=int(input(\"Enter First Number: \"))                 #get first number from user\n",
    "b=int(input(\"Enter 2nd number: \"))                   # get second number from user\n",
    "ch=input(\"Enter Character(+ , - , * , /): \")         # Get character from user to perform any of these operations\n",
    "\n",
    "if ch== \"+\":                                         # To add 1st and 2nd number\n",
    "    print(\"Sum:\",a+b)\n",
    "elif ch==\"-\":                                        # for subtraction\n",
    "    print(\"Difference:\",a-b)                         \n",
    "elif ch==\"*\":                                        # For multiply both numbers\n",
    "    print(\"Product:\",a*b)                            \n",
    "else:                                                # For division\n",
    "    print(\"Quotient:\",a/b)"
   ]
  },
  {
   "cell_type": "markdown",
   "id": "bc69b826-cca8-4c9a-926b-606e77561acb",
   "metadata": {},
   "source": [
    "----> Question no 4: We will take tree numers from user .  Then add three numbers and then divide sum on 3 to find average."
   ]
  },
  {
   "cell_type": "code",
   "execution_count": 5,
   "id": "801b6c53-81ae-4cae-aed5-aa0ea18f56cf",
   "metadata": {},
   "outputs": [
    {
     "name": "stdin",
     "output_type": "stream",
     "text": [
      "Enter First Number:  3\n",
      "Enter 2nd number:  4\n",
      "Enter 3rd Number:  5\n"
     ]
    },
    {
     "name": "stdout",
     "output_type": "stream",
     "text": [
      "Average:  4.0\n"
     ]
    }
   ],
   "source": [
    "a=int(input(\"Enter First Number: \"))           #get first number from user\n",
    "b=int(input(\"Enter 2nd number: \"))             # get second number from user\n",
    "c=int(input(\"Enter 3rd Number: \"))             # get third number from user\n",
    "\n",
    "avg=(a+b+c)/3                                  # Formula for average (sum of values/number of values)\n",
    "print(\"Average: \",avg)"
   ]
  },
  {
   "cell_type": "markdown",
   "id": "8e55feaa-3f5e-409b-ae3a-511610ecbb73",
   "metadata": {},
   "source": [
    "----> Question No.5: We will get marks from user as input . Then we can compare number by using coditional statements . Grade will be assigned on that codition in which that number falls."
   ]
  },
  {
   "cell_type": "code",
   "execution_count": 6,
   "id": "c3f24f0c-bc4a-494e-823f-4845032cba9f",
   "metadata": {},
   "outputs": [
    {
     "name": "stdin",
     "output_type": "stream",
     "text": [
      "Enter your marks  78\n"
     ]
    },
    {
     "name": "stdout",
     "output_type": "stream",
     "text": [
      "B grade\n"
     ]
    }
   ],
   "source": [
    "marks=int(input(\"Enter your marks \"))        #Get marks from user as integer\n",
    "if marks>=90:                                #for A+ grade it Checks whether marks 90 or greater than 90\n",
    "    print(\"A+ grade\")\n",
    "elif marks>=80:                              #for A check marks are 80 or greater than 80 and less than 90\n",
    "    print(\"A grade\")\n",
    "elif marks>=70:                              #for B check marks are 70 or greater than 70 and less than 80\n",
    "    print(\"B grade\")\n",
    "elif marks>=60:                              #for C check marks are 60 or greater than 60 and less than 70\n",
    "    print(\"C grade\")\n",
    "elif marks>=50:                              #for D check marks are greater than 50 and less than 60\n",
    "    print(\"D grade\")\n",
    "else:                                        # if all above false then this will execute\n",
    "    print(\"F grade\")"
   ]
  },
  {
   "cell_type": "markdown",
   "id": "fc12a619-a9c2-48bf-b383-1b212e24fd3c",
   "metadata": {},
   "source": [
    "----> Question no 6: We will initialize a list with some positive and neagtive odd numbers. Then we can use a for loop that will run until counter variable will greater than list's length. for negative numers it will take positive square of number and assign negative sign to it . Abd for +ve number it will simply take square . A counter variable will be update each time with one."
   ]
  },
  {
   "cell_type": "code",
   "execution_count": 7,
   "id": "be2a0dde-e455-4396-a27e-faeefee4fe0d",
   "metadata": {},
   "outputs": [
    {
     "name": "stdout",
     "output_type": "stream",
     "text": [
      "-81,-49,-25,-9,-1,1,9,25,49,81,"
     ]
    }
   ],
   "source": [
    "nums=[-9, -7, -5, -3, -1, 1, 3, 5, 7, 9]    #initialize list with these odd numbers both negative and +ve\n",
    "i=0                                         #Counter variabe for loop\n",
    "\n",
    "while i<len(nums):                          #loop will run so long the value of i remain less than length of nums \n",
    "    n=nums[i]                               # get current elemnt from list\n",
    "    if n<0:                                 # check if it is smaller than zero\n",
    "        print(-(n**2), end=\",\" )            # convert positive before thake square\n",
    "    else:\n",
    "        print(n**2, end=\",\")                # if +ve just we will take square\n",
    "    i+=1                                    # for increment value of i"
   ]
  },
  {
   "cell_type": "markdown",
   "id": "dc3fcc21-74da-40b8-ace1-50bde84257f7",
   "metadata": {},
   "source": [
    "----> Question No.7: We will Use two for loops first will print one decreasing pattern and second for increasing pattern. First loop will be start from 5 bcz we have to print 5 stars in first line and ends on one. Step size is -1. Second loop starts from one and ends on 5 and step size is by default 1. "
   ]
  },
  {
   "cell_type": "code",
   "execution_count": 8,
   "id": "58a12198-b4b3-4bbb-b235-5774d0f0ffe9",
   "metadata": {},
   "outputs": [
    {
     "name": "stdout",
     "output_type": "stream",
     "text": [
      "*****\n",
      "****\n",
      "***\n",
      "**\n",
      "*\n",
      "*\n",
      "**\n",
      "***\n",
      "****\n",
      "*****\n"
     ]
    }
   ],
   "source": [
    "for i in range(5,0,-1):             #i value is from 5 to 1 (last value -1 is not include) \n",
    "    print(\"*\" *i)                   # print star for i times\n",
    "for i in range(1,6):                # i value is from 1 to 5 (last value 6 is not include)\n",
    "    print(\"*\" *i)                   # print * for i(5) times"
   ]
  },
  {
   "cell_type": "markdown",
   "id": "fc10e804-424f-4f00-948d-37c264b493d7",
   "metadata": {},
   "source": [
    "----> Question No.8: We will use a while loop that start from 1 and run untill n<=20. Each time we will increment of n by 2 bcz we have to print just odd numbers."
   ]
  },
  {
   "cell_type": "code",
   "execution_count": 9,
   "id": "e5ff72c5-75c6-424b-9518-753dee32e1df",
   "metadata": {},
   "outputs": [
    {
     "name": "stdout",
     "output_type": "stream",
     "text": [
      "1 3 5 7 9 11 13 15 17 19 "
     ]
    }
   ],
   "source": [
    "n=1                       # initialize variable with 1\n",
    "\n",
    "while n<=20:              # loop works until i is less or equal to 20\n",
    "    print(n, end=\" \")     # print n with space\n",
    "    n+=2                  # increment of 2 for odd numbers to print"
   ]
  },
  {
   "cell_type": "markdown",
   "id": "3c08504c-30f6-4992-b939-ee66992c5e0a",
   "metadata": {},
   "source": [
    "----> Question No.9: We will take string from user. initialize a counter variable i with last index of string. A While loop that runs untill i is greater or equal to zero. Each time it will print vaue on index i.In i there will be decrement of 1."
   ]
  },
  {
   "cell_type": "code",
   "execution_count": 10,
   "id": "5b75631c-e7f2-4525-a5b0-d0947b45f34f",
   "metadata": {},
   "outputs": [
    {
     "name": "stdin",
     "output_type": "stream",
     "text": [
      "Enter a string:  RAIMA KOMAL\n"
     ]
    },
    {
     "name": "stdout",
     "output_type": "stream",
     "text": [
      "L A M O K   A M I A R "
     ]
    }
   ],
   "source": [
    "str=input(\"Enter a string: \")       #take strig from user\n",
    "i= len(str)-1                       #initialize i with last element of string\n",
    "\n",
    "while i>=0:                           # loop run until i value is greater or equal to zero\n",
    "    print(str[i], end=\" \")            #print string element on i index with space\n",
    "    i-=1                              # decrement by 1"
   ]
  },
  {
   "cell_type": "markdown",
   "id": "c84461ec-76cf-4c43-9487-f7b822791757",
   "metadata": {},
   "source": [
    "----> Question No.10: Fibonacci series is made by adding previous two numbers too get next one. we will take a number from the user and initialize first two numbers of the series to 0 and 1. Then use a while loop that runs as long as a is less than or equal to number entered by the user.print current value of a bcz that’s current number in series.We store current a in a temporary variable (temp) so it’s not lost. then update a to value of b.update b to temp + b. loop runs untill it reaches to number enter by user."
   ]
  },
  {
   "cell_type": "code",
   "execution_count": 11,
   "id": "9c23dda4-4c92-449a-a1a6-ed49e7e9a291",
   "metadata": {},
   "outputs": [
    {
     "name": "stdin",
     "output_type": "stream",
     "text": [
      "Enter the last number  150\n"
     ]
    },
    {
     "name": "stdout",
     "output_type": "stream",
     "text": [
      "0 1 1 2 3 5 8 13 21 34 55 89 144 "
     ]
    }
   ],
   "source": [
    "end=int(input(\"Enter the last number \"))  # enter any number upto user want fabonacci series\n",
    "a=0                                       # initialize first number of series    \n",
    "b=1                                       # initialize 2nd number \n",
    "\n",
    "while a<=end:                             # Loop runs until a is greater or equal to end(number entered by user).\n",
    "    print(a, end=\" \")                     # print a with space\n",
    "    temp=a                                # Store the current a in a temporary variable temp\n",
    "    a=b                                   # assign value of b to a\n",
    "    b=temp+b                              # b will be sum of two presvious numbers"
   ]
  },
  {
   "cell_type": "markdown",
   "id": "b2fd96a9-4b7c-4b0c-b290-ecea0e906172",
   "metadata": {},
   "source": [
    "----> Question No.11: Take number n from user. Initialize a variable to one. Use while loop that runs untill n is greater than 0.Eeah time multiply variable fact by n and then Decrement of n by 1. At end we can get factorial."
   ]
  },
  {
   "cell_type": "code",
   "execution_count": 12,
   "id": "aa1a4b65-8501-46ab-8f2a-62a9d4a3c838",
   "metadata": {},
   "outputs": [
    {
     "name": "stdin",
     "output_type": "stream",
     "text": [
      "Enter a number:  10\n"
     ]
    },
    {
     "name": "stdout",
     "output_type": "stream",
     "text": [
      "Factorial: 3628800\n"
     ]
    }
   ],
   "source": [
    "n=int(input(\"Enter a number: \"))       #get number from user\n",
    "fact=1                                 # initialize fact variable with 1\n",
    "while n>0:                             #loop runs until n is greeater than zero\n",
    "    fact*=n                            #fact variable multiply with n\n",
    "    n=n-1                              # decrement by 1\n",
    "print(\"Factorial:\",fact)              "
   ]
  },
  {
   "cell_type": "markdown",
   "id": "98ba5175-3b06-4abf-9393-3a403b60108d",
   "metadata": {},
   "source": [
    "----> Question No.13: Initialize a variable n with 2. Then use a while loop that runs untill i is greater or equal to 20. n will be incremented by 2 as we have to print even numbers."
   ]
  },
  {
   "cell_type": "code",
   "execution_count": 13,
   "id": "5fa05b29-5854-4aa4-87e1-cd35c1293910",
   "metadata": {},
   "outputs": [
    {
     "name": "stdout",
     "output_type": "stream",
     "text": [
      "2 4 6 8 10 12 14 16 18 20 "
     ]
    }
   ],
   "source": [
    "n=2                        # initialize var n with 2\n",
    "while n<=20:               #loop runs until n is smaller or equal to 20\n",
    "    print(n, end=\" \")      # print n with space\n",
    "    n=n+2                  # increment in n by 2"
   ]
  },
  {
   "cell_type": "markdown",
   "id": "6a8e18c1-c31e-43b1-8fa3-524bac4f9b81",
   "metadata": {},
   "source": [
    "----> Question No.14: Initialize two variables n and pro with 1. Then use a while loop that runs untill n is smaller or equal to 10. each time pro will bw multiply with n . and n will be incremented by 1 each time .At end we will get product upto n."
   ]
  },
  {
   "cell_type": "code",
   "execution_count": 14,
   "id": "5ebb6c50-07f5-4830-aad6-d87a673319d8",
   "metadata": {},
   "outputs": [
    {
     "name": "stdout",
     "output_type": "stream",
     "text": [
      "Product: 3628800\n"
     ]
    }
   ],
   "source": [
    "n=1                       #initialize n var with 1\n",
    "pro=1                     # initialize pro variable with 1\n",
    "\n",
    "while n<=10:              #loop run until n is smaller or equal to 10\n",
    "    pro*=n                # update pro by multiplying pro value with n\n",
    "    n=n+1                 # increment of n by 1 \n",
    "print(\"Product:\", pro)"
   ]
  },
  {
   "cell_type": "markdown",
   "id": "461854ca-1959-4c47-a8ab-3e4531edff4a",
   "metadata": {},
   "source": [
    "----> Question No.15: First we will initialize i to 1 to control current row number. Use a while loop to controls total number of rows that runs untill i<=5. Use another while loop to print spaces It runs until n<=5-i. then Use a while loop for numbers. use another while loop It runs until j<=i. In each iteration it will print current row number i without a newline. After print spaces and numbers for one row use print() to move to next line. increment i by 1 , process will repeat until pattern is complete."
   ]
  },
  {
   "cell_type": "code",
   "execution_count": 15,
   "id": "32c6392d-a68d-4ae9-b0a5-d8f7052f6c9e",
   "metadata": {},
   "outputs": [
    {
     "name": "stdout",
     "output_type": "stream",
     "text": [
      "    1\n",
      "   22\n",
      "  333\n",
      " 4444\n",
      "55555\n"
     ]
    }
   ],
   "source": [
    "i=1                                #Initialize i to 1. this will controls the current row number\n",
    "\n",
    "while i<=5:                    #loop for handle no of rows(5). it runs until i is smaller or equal to 5\n",
    "    n=1                        # to print spaces\n",
    "    while n<=5-i:              # this loop will print spaces untill n is smaller than its row-i \n",
    "        print(\" \", end=\"\")     # print space \n",
    "        n+=1                   # icrement n by 1\n",
    "        \n",
    "    j=1                        # initialize j to 1 to control that how many numers will print\n",
    "    while j<=i:                #loop runs untill j is smaller or equal to i\n",
    "        print(i, end=\"\")       # Print current row # without new line\n",
    "        j+=1                   # increment in j with 1\n",
    "    print()                    # Move to next line after finish spaces and numbers in current row\n",
    "\n",
    "    i+=1                       # increment in i with 1"
   ]
  },
  {
   "cell_type": "markdown",
   "id": "2935cfdb-fc0d-4802-a888-4933e6c755d5",
   "metadata": {},
   "source": [
    "----> Question No.16: We will use while loop for spaces which decrease each row and then print current row number. outer loop will run from 1 to 5 to print all rows."
   ]
  },
  {
   "cell_type": "code",
   "execution_count": 18,
   "id": "762e2215-8433-4033-8286-e1b3064ec2a9",
   "metadata": {},
   "outputs": [
    {
     "name": "stdout",
     "output_type": "stream",
     "text": [
      "    1\n",
      "   2\n",
      "  3\n",
      " 4\n",
      "5\n"
     ]
    }
   ],
   "source": [
    "i=1                           # Initialize i to 1 to control current row #.\n",
    "while i<=5:                    # loop to print rows from 1 to 5\n",
    "\n",
    "    n=1                        # controls # of spaces to print \n",
    "    while n<=5-i:              # No. of spaces will decrease as i increase\n",
    "        print(\" \",end=\"\")      # Print space without moving to new line\n",
    "        n+=1                   # increment in n with 1\n",
    "    print(i)                   # for print the current number(row number)\n",
    "    i+=1                       # increment in i with 1"
   ]
  },
  {
   "cell_type": "code",
   "execution_count": null,
   "id": "f1915aec-e34d-4d9a-b257-2291f6077d90",
   "metadata": {},
   "outputs": [],
   "source": []
  }
 ],
 "metadata": {
  "kernelspec": {
   "display_name": "Python 3 (ipykernel)",
   "language": "python",
   "name": "python3"
  },
  "language_info": {
   "codemirror_mode": {
    "name": "ipython",
    "version": 3
   },
   "file_extension": ".py",
   "mimetype": "text/x-python",
   "name": "python",
   "nbconvert_exporter": "python",
   "pygments_lexer": "ipython3",
   "version": "3.13.5"
  }
 },
 "nbformat": 4,
 "nbformat_minor": 5
}
